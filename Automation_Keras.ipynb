{
  "nbformat": 4,
  "nbformat_minor": 0,
  "metadata": {
    "colab": {
      "provenance": [],
      "gpuType": "T4"
    },
    "kernelspec": {
      "name": "python3",
      "display_name": "Python 3"
    },
    "language_info": {
      "name": "python"
    },
    "accelerator": "GPU"
  },
  "cells": [
    {
      "cell_type": "markdown",
      "source": [
        "# **Darbs ar tekstu**"
      ],
      "metadata": {
        "id": "e-4GDqqdBEra"
      }
    },
    {
      "cell_type": "markdown",
      "source": [
        "# Klientu atbalsta pieprasījumu automatizēta klasifikācija"
      ],
      "metadata": {
        "id": "RROFwNbpAD2N"
      }
    },
    {
      "source": [
        "from tensorflow.keras.preprocessing.text import Tokenizer\n",
        "from tensorflow.keras.models import Sequential\n",
        "from tensorflow.keras.layers import Embedding, LSTM, Dense\n",
        "from tensorflow.keras.preprocessing.sequence import pad_sequences\n",
        "import numpy as np\n",
        "\n",
        "# Paraugu dati\n",
        "texts = ['Tehniska problēma', 'Rēķina jautājums', 'Produkta pieprasījums']\n",
        "labels = [0, 1, 2]  # Piemērs: 0 = tehniskā, 1 = rēķins, 2 = pieprasījums\n",
        "\n",
        "# Convert labels to NumPy array\n",
        "labels = np.array(labels) # This line converts the labels list into a NumPy array.\n",
        "\n",
        "tokenizer = Tokenizer(num_words=10000)\n",
        "tokenizer.fit_on_texts(texts)\n",
        "X = tokenizer.texts_to_sequences(texts)\n",
        "X = pad_sequences(X, maxlen=100)\n",
        "\n",
        "# Modeļa izveide\n",
        "model = Sequential([\n",
        "    Embedding(input_dim=10000, output_dim=64, input_length=100),\n",
        "    LSTM(64),\n",
        "    Dense(3, activation='softmax')  # 3 kategorijas: tehniskā, rēķins, pieprasījums\n",
        "])\n",
        "\n",
        "model.compile(optimizer='adam', loss='sparse_categorical_crossentropy', metrics=['accuracy'])\n",
        "\n",
        "model.fit(X, labels, epochs=10)\n",
        "\n",
        "new_texts = ['Tehniska kļūda', 'Rēķina summa', 'Produkta jautājums']\n",
        "\n",
        "new_sequences = tokenizer.texts_to_sequences(new_texts)\n",
        "new_X = pad_sequences(new_sequences, maxlen=100)\n",
        "\n",
        "new_predictions = model.predict(new_X)\n",
        "\n",
        "predicted_labels = np.argmax(new_predictions, axis=1)\n",
        "\n",
        "for text, label in zip(new_texts, predicted_labels):\n",
        "    print(f\"Text: {text}, Predicted Label: {label}\")\n"
      ],
      "cell_type": "code",
      "metadata": {
        "id": "ZYT2iMl-1Bxs"
      },
      "execution_count": null,
      "outputs": []
    },
    {
      "cell_type": "markdown",
      "source": [
        "# E-pasta filtrēšana (teksta klasifikācija)"
      ],
      "metadata": {
        "id": "kwxO2grOAzya"
      }
    },
    {
      "source": [
        "from tensorflow.keras.preprocessing.text import Tokenizer\n",
        "from tensorflow.keras.models import Sequential\n",
        "from tensorflow.keras.layers import Embedding, LSTM, Dense\n",
        "from tensorflow.keras.preprocessing.sequence import pad_sequences\n",
        "import numpy as np\n",
        "\n",
        "# Paraugu e-pasta dati\n",
        "emails = ['Apsveicam! Jūs esat laimējis balvu', 'Jūsu rēķins ir jāapmaksā', 'Ekskluzīvs piedāvājums tieši jums']\n",
        "labels = [1, 0, 1]  # 1 = surogātpasts, 0 = nav surogātpasts\n",
        "\n",
        "tokenizer = Tokenizer(num_words=10000)\n",
        "tokenizer.fit_on_texts(emails)\n",
        "X = tokenizer.texts_to_sequences(emails)\n",
        "X = pad_sequences(X, maxlen=100)\n",
        "\n",
        "# Modeļa izveide\n",
        "model = Sequential([\n",
        "    Embedding(input_dim=10000, output_dim=64, input_length=100),\n",
        "    LSTM(64),\n",
        "    Dense(1, activation='sigmoid')  # 1 binārajai klasifikācijai\n",
        "])\n",
        "\n",
        "model.compile(optimizer='adam', loss='binary_crossentropy', metrics=['accuracy'])\n",
        "\n",
        "# Convert labels to NumPy array\n",
        "labels = np.array(labels) # This line ensures 'labels' is a NumPy array, which is expected by 'model.fit'\n",
        "\n",
        "model.fit(X, labels, epochs=10) # The 'labels' variable is now a NumPy array."
      ],
      "cell_type": "code",
      "metadata": {
        "id": "neJKRaoK_79E"
      },
      "execution_count": null,
      "outputs": []
    },
    {
      "cell_type": "markdown",
      "source": [
        "# Pieprasījuma prognozēšana noliktavas pārvaldībai (LSTM)"
      ],
      "metadata": {
        "id": "TgrZvlicBz6w"
      }
    },
    {
      "cell_type": "code",
      "source": [
        "import numpy as np\n",
        "from tensorflow.keras.models import Sequential\n",
        "from tensorflow.keras.layers import LSTM, Dense\n",
        "\n",
        "# Paraugu vēsturiskie pārdošanas dati (piemēram, nedēļas pārdošana)\n",
        "sales_data = np.array([200, 220, 250, 300, 280, 320, 350, 400, 430, 450])  # Piemērs nedēļas pārdošanai\n",
        "\n",
        "# Sagatavot datus LSTM\n",
        "X = sales_data[:-1].reshape((len(sales_data) - 1, 1, 1))\n",
        "y = sales_data[1:]\n",
        "\n",
        "# Izveidot LSTM modeli\n",
        "model = Sequential([\n",
        "    LSTM(64, input_shape=(1, 1)),\n",
        "    Dense(1)\n",
        "])\n",
        "\n",
        "model.compile(optimizer='adam', loss='mean_squared_error')\n",
        "\n",
        "# Modeļa apmācība\n",
        "model.fit(X, y, epochs=10)\n",
        "\n",
        "# Prognozēt nākamo vērtību\n",
        "forecast = model.predict(np.array([sales_data[-1]]).reshape((1, 1, 1)))\n",
        "print(f'Nākamā prognozētā pieprasījuma vērtība: {forecast[0][0]}')\n"
      ],
      "metadata": {
        "id": "XB4McPI3BrTI"
      },
      "execution_count": null,
      "outputs": []
    },
    {
      "cell_type": "markdown",
      "source": [
        "# Darbinieku atlases prognozēšana"
      ],
      "metadata": {
        "id": "-Cb3s4bYCKn4"
      }
    },
    {
      "cell_type": "code",
      "source": [
        "import numpy as np\n",
        "from tensorflow.keras.models import Sequential\n",
        "from tensorflow.keras.layers import Dense\n",
        "\n",
        "# Paraugu darbinieku dati (īpašības: vecums, apmierinātība, gadi uzņēmumā utt.)\n",
        "X = np.array([[25, 3, 2], [30, 5, 6], [35, 7, 8], [40, 10, 12]])  # Piemērs: īpašības\n",
        "y = np.array([0, 1, 0, 1])  # 1 = atlase, 0 = nav atlases\n",
        "\n",
        "# Izveidot DNN modeli\n",
        "model = Sequential([\n",
        "    Dense(64, input_dim=3, activation='relu'),\n",
        "    Dense(32, activation='relu'),\n",
        "    Dense(1, activation='sigmoid')  # Izvade: 0 vai 1 (atlases prognoze)\n",
        "])\n",
        "\n",
        "model.compile(optimizer='adam', loss='binary_crossentropy', metrics=['accuracy'])\n",
        "\n",
        "# Modeļa apmācība\n",
        "model.fit(X, y, epochs=10)\n",
        "\n",
        "# Piemēra dati prognozēšanai (jauni darbinieki ar līdzīgām īpašībām)\n",
        "X_new = np.array([[28, 4, 3], [45, 9, 11]])\n",
        "\n",
        "# Prognozēt, izmantojot apmācīto modeli\n",
        "predictions = model.predict(X_new)\n",
        "\n",
        "# Apaļo prognozes uz 0 vai 1 (atlase vai nē)\n",
        "predictions_binary = (predictions > 0.5).astype(int)\n",
        "\n",
        "print(\"Prognozētās iespējas atlasei:\", predictions.flatten())\n",
        "print(\"Binārās prognozes:\", predictions_binary.flatten())\n"
      ],
      "metadata": {
        "id": "Q9G1jQedCVY3"
      },
      "execution_count": null,
      "outputs": []
    },
    {
      "cell_type": "markdown",
      "source": [
        "# **Darbs ar tabulam**"
      ],
      "metadata": {
        "id": "e7zfCQ3aDaQF"
      }
    },
    {
      "cell_type": "markdown",
      "source": [
        "# Produkta segmentācija"
      ],
      "metadata": {
        "id": "0JsKsjt3Eikm"
      }
    },
    {
      "cell_type": "code",
      "source": [
        "# Importējam nepieciešamās bibliotēkas\n",
        "import pandas as pd\n",
        "import numpy as np\n",
        "from sklearn.model_selection import train_test_split\n",
        "from sklearn.preprocessing import StandardScaler, OneHotEncoder\n",
        "from tensorflow import keras\n",
        "from tensorflow.keras import layers\n",
        "import seaborn as sns\n",
        "\n",
        "# Ielādējam MPG datu kopu\n",
        "df = sns.load_dataset(\"mpg\")\n",
        "\n",
        "# Apstrādājam trūkstošos datus (aizstājam '?' zīmes ar NaN un aizpildām ar mediānu)\n",
        "df['horsepower'] = pd.to_numeric(df['horsepower'], errors='coerce')\n",
        "df['horsepower'].fillna(df['horsepower'].median(), inplace=True)\n",
        "\n",
        "# Izveidojam jaunu mērķa mainīgo (produkta segmentācija)\n",
        "# Kategorizējam 'weight' (svara) vērtības trīs produkta segmentos: 'Light', 'Medium', 'Heavy'\n",
        "df['product_segment'] = pd.cut(df['weight'], bins=[0, 2000, 3000, 5000], labels=['Light', 'Medium', 'Heavy'])\n",
        "\n",
        "# Ievades dati (X) un mērķa dati (y)\n",
        "X = df.drop(columns=['mpg', 'product_segment'])\n",
        "y = pd.get_dummies(df['product_segment'])\n",
        "\n",
        "# Datu sadalīšana apmācības un testēšanas datu kopās\n",
        "X_train, X_test, y_train, y_test = train_test_split(X, y, test_size=0.2, random_state=42)\n",
        "\n",
        "# Create a OneHotEncoder for categorical features\n",
        "encoder = OneHotEncoder(sparse_output=False, handle_unknown='ignore')  # sparse=False for numpy array\n",
        "\n",
        "# Select numerical and categorical features\n",
        "numerical_features = ['cylinders', 'displacement', 'horsepower', 'weight', 'acceleration', 'model_year']\n",
        "categorical_features = ['origin']\n",
        "\n",
        "encoded_features_train = encoder.fit_transform(X_train[categorical_features])\n",
        "encoded_features_test = encoder.transform(X_test[categorical_features])\n",
        "\n",
        "encoded_df_train = pd.DataFrame(encoded_features_train, columns=encoder.get_feature_names_out(categorical_features),\n",
        "                                index=X_train.index)\n",
        "encoded_df_test = pd.DataFrame(encoded_features_test, columns=encoder.get_feature_names_out(categorical_features),\n",
        "                               index=X_test.index)\n",
        "\n",
        "X_train = pd.concat([X_train[numerical_features], encoded_df_train], axis=1)\n",
        "X_test = pd.concat([X_test[numerical_features], encoded_df_test], axis=1)\n",
        "\n",
        "# Standartizējam datus\n",
        "scaler = StandardScaler()\n",
        "X_train = scaler.fit_transform(X_train)\n",
        "X_test = scaler.transform(X_test)\n",
        "\n",
        "# Izveidojam vairāku iznākumu neironu tīkla modeli ar Keras produkta segmentācijai\n",
        "model = keras.Sequential([\n",
        "    layers.Dense(64, activation='relu', input_dim=X_train.shape[1]),\n",
        "    layers.Dense(32, activation='relu'),\n",
        "    layers.Dense(3, activation='softmax')  # Iznākuma slānis ar 3 neironiem (trīs produkta segmenti: Light, Medium, Heavy)\n",
        "])\n",
        "\n",
        "# Kompilējam modeli\n",
        "model.compile(optimizer='adam', loss='categorical_crossentropy', metrics=['accuracy'])\n",
        "\n",
        "# Apmācām modeli\n",
        "model.fit(X_train, y_train, epochs=20, batch_size=32, validation_data=(X_test, y_test))\n",
        "\n",
        "# Novērtējam modeli\n",
        "loss, accuracy = model.evaluate(X_test, y_test)\n",
        "print(f\"Testa zudums: {loss}\")\n",
        "print(f\"Testa precizitāte: {accuracy}\")\n",
        "\n",
        "# Veicam prognozes\n",
        "y_pred = model.predict(X_test)\n",
        "y_pred_classes = np.argmax(y_pred, axis=1)  # Pārvēršam one-hot kodētās prognozes klases etiķetēs\n",
        "\n",
        "# Nosaukumu kartēšana (indekss uz verbālo segmentu)\n",
        "class_names = ['Light', 'Medium', 'Heavy']\n",
        "y_pred_segments = [class_names[class_idx] for class_idx in y_pred_classes]\n",
        "\n",
        "# Izdrukājam prognozētās segmentu nosaukumus\n",
        "print(\"Prognozētie produkta segmenti (verbāli):\", y_pred_segments[:5])  # Parāda tikai pirmās 5 prognozes\n"
      ],
      "metadata": {
        "id": "rM17-gEZHEIg"
      },
      "execution_count": null,
      "outputs": []
    },
    {
      "source": [
        "# Importējam nepieciešamās bibliotēkas\n",
        "import pandas as pd\n",
        "from sklearn.model_selection import train_test_split\n",
        "from sklearn.preprocessing import StandardScaler, OneHotEncoder\n",
        "from tensorflow import keras\n",
        "from tensorflow.keras import layers\n",
        "import seaborn as sns\n",
        "\n",
        "# Ielādējam Diamonds datu kopu\n",
        "df = sns.load_dataset(\"diamonds\")\n",
        "\n",
        "# Apstrādājam trūkstošos datus (ja tādi ir)\n",
        "df = df.dropna()\n",
        "\n",
        "# Izveidojam jaunu mērķa mainīgo (produkts tiek segmentēts pēc cenas)\n",
        "# Kategoriski segmentējam dimanta cenu\n",
        "df['price_segment'] = pd.cut(df['price'], bins=[0, 2500, 5000, 10000, 20000], labels=['Low', 'Medium', 'High', 'Luxury'])\n",
        "\n",
        "# Ievades dati (X) un mērķa dati (y)\n",
        "X = df.drop(columns=['price', 'price_segment'])\n",
        "y = pd.get_dummies(df['price_segment'])  # Vienas karstās kodēšanas metode mērķa mainīgajam\n",
        "\n",
        "# Sadalām datus apmācības un testēšanas datu kopās\n",
        "X_train, X_test, y_train, y_test = train_test_split(X, y, test_size=0.2, random_state=42)\n",
        "\n",
        "# Vienas karstās kodēšanas metode kategoriskajiem atribūtiem\n",
        "categorical_features = ['cut', 'color', 'clarity']\n",
        "encoder = OneHotEncoder(sparse_output=False, handle_unknown='ignore')\n",
        "encoded_categorical_train = encoder.fit_transform(X_train[categorical_features])\n",
        "encoded_categorical_test = encoder.transform(X_test[categorical_features])\n",
        "\n",
        "# Izveidojam DataFrames kategoriskajiem atribūtiem, kas kodēti ar vienas karstās kodēšanas metodi\n",
        "encoded_df_train = pd.DataFrame(encoded_categorical_train,\n",
        "                                columns=encoder.get_feature_names_out(categorical_features),\n",
        "                                index=X_train.index)\n",
        "encoded_df_test = pd.DataFrame(encoded_categorical_test,\n",
        "                               columns=encoder.get_feature_names_out(categorical_features),\n",
        "                               index=X_test.index)\n",
        "\n",
        "# Noņemam oriģinālās kategoriskās kolonnas un pievienojam kodētās kolonnas\n",
        "X_train = X_train.drop(columns=categorical_features)\n",
        "X_train = pd.concat([X_train, encoded_df_train], axis=1)\n",
        "\n",
        "X_test = X_test.drop(columns=categorical_features)\n",
        "X_test = pd.concat([X_test, encoded_df_test], axis=1)\n",
        "\n",
        "# Standartizējam datus\n",
        "scaler = StandardScaler()\n",
        "X_train = scaler.fit_transform(X_train)\n",
        "X_test = scaler.transform(X_test)\n",
        "\n",
        "# Izveidojam vairāku iznākumu neironu tīkla modeli ar Keras, lai segmentētu produktu pēc cenas\n",
        "model = keras.Sequential([\n",
        "    layers.Dense(64, activation='relu', input_dim=X_train.shape[1]),  # Slānis ar 64 neironiem un ReLU aktivācijas funkciju\n",
        "    layers.Dense(32, activation='relu'),  # Slānis ar 32 neironiem un ReLU aktivācijas funkciju\n",
        "    layers.Dense(4, activation='softmax')  # Izejas slānis ar 4 neironiem (četri produkta segmenti: Low, Medium, High, Luxury)\n",
        "])\n",
        "\n",
        "# Kompilējam modeli\n",
        "model.compile(optimizer='adam', loss='categorical_crossentropy', metrics=['accuracy'])\n",
        "\n",
        "# Apmācām modeli\n",
        "model.fit(X_train, y_train, epochs=20, batch_size=32, validation_data=(X_test, y_test))\n",
        "\n",
        "# Novērtējam modeli\n",
        "loss, accuracy = model.evaluate(X_test, y_test)\n",
        "print(f\"Testa zudums: {loss}\")\n",
        "print(f\"Testa precizitāte: {accuracy}\")\n",
        "\n",
        "# Veicam prognozes\n",
        "y_pred = model.predict(X_test)\n",
        "y_pred_classes = np.argmax(y_pred, axis=1)  # Pārvēršam vienas karstās kodēšanas prognozes klasēs\n",
        "\n",
        "# Nosaukumu kartēšana (indekss uz verbālo segmentu)\n",
        "class_names = ['Low', 'Medium', 'High', 'Luxury']\n",
        "y_pred_segments = [class_names[class_idx] for class_idx in y_pred_classes]\n",
        "\n",
        "# Izdrukājam prognozētos segmentu nosaukumus\n",
        "print(\"Prognozētie produkta segmenti (verbāli):\", y_pred_segments[:5])  # Parāda tikai pirmās 5 prognozes\n"
      ],
      "cell_type": "code",
      "metadata": {
        "id": "UQkiQGe7H7D2"
      },
      "execution_count": null,
      "outputs": []
    },
    {
      "cell_type": "markdown",
      "source": [
        "# Cenu prognoze"
      ],
      "metadata": {
        "id": "1on6qPiiKMQx"
      }
    },
    {
      "cell_type": "code",
      "source": [
        "# Importējam nepieciešamās bibliotēkas\n",
        "import pandas as pd\n",
        "from sklearn.model_selection import train_test_split\n",
        "from sklearn.preprocessing import StandardScaler\n",
        "from tensorflow import keras\n",
        "from tensorflow.keras import layers\n",
        "import seaborn as sns\n",
        "\n",
        "# Ielādējam Diamonds datu kopu\n",
        "df = sns.load_dataset(\"diamonds\")\n",
        "\n",
        "# Pārliecināmies, ka nav nulles vērtību\n",
        "df = df.dropna()\n",
        "\n",
        "# Kategoriskos mainīgos (cut, color, clarity) pārvēršam skaitliskās vērtībās\n",
        "df = pd.get_dummies(df, columns=['cut', 'color', 'clarity'], drop_first=True)\n",
        "\n",
        "# Ievades dati (X) un mērķa dati (y)\n",
        "X = df.drop(columns=['price'])  # Cenas kā mērķa mainīgais\n",
        "y = df['price']\n",
        "\n",
        "# Datu sadalīšana apmācības un testēšanas datu kopās\n",
        "X_train, X_test, y_train, y_test = train_test_split(X, y, test_size=0.2, random_state=42)\n",
        "\n",
        "# Standartizējam ievades datus\n",
        "scaler = StandardScaler()\n",
        "X_train = scaler.fit_transform(X_train)\n",
        "X_test = scaler.transform(X_test)\n",
        "\n",
        "# Izveidojam regresijas neironu tīkla modeli ar Keras\n",
        "model = keras.Sequential([\n",
        "    layers.Dense(128, activation='relu', input_dim=X_train.shape[1]),\n",
        "    layers.Dense(64, activation='relu'),\n",
        "    layers.Dense(32, activation='relu'),\n",
        "    layers.Dense(1)  # Iznākuma slānis vienai nepārtrauktai vērtībai (regresija)\n",
        "])\n",
        "\n",
        "# Kompilējam modeli\n",
        "model.compile(optimizer='adam', loss='mean_squared_error', metrics=['mean_absolute_error'])\n",
        "\n",
        "# Apmācām modeli\n",
        "model.fit(X_train, y_train, epochs=30, batch_size=64, validation_data=(X_test, y_test))\n",
        "\n",
        "# Funkcija verbālām prognozēm\n",
        "def verbal_prediction(price):\n",
        "    if price < 1000:\n",
        "        return f\"Cena ({price:.2f}): Zema. Labs budžeta risinājums.\"\n",
        "    elif 1000 <= price < 5000:\n",
        "        return f\"Cena ({price:.2f}): Vidēja. Laba kvalitāte par samērīgu cenu.\"\n",
        "    elif 5000 <= price < 10000:\n",
        "        return f\"Cena ({price:.2f}): Augsta. Ekskluzīvs un augstas klases produkts.\"\n",
        "    else:\n",
        "        return f\"Cena ({price:.2f}): Luksusa līmenis. Piemērots prestižiem gadījumiem.\"\n",
        "\n",
        "# Veicam prognozes\n",
        "y_pred = model.predict(X_test)\n",
        "print(f\"Pirmās 5 prognozētās cenas: {y_pred[:5].flatten()}\")\n",
        "for i in range(5):\n",
        "    predicted_price = y_pred[i][0]\n",
        "    print(verbal_prediction(predicted_price))\n"
      ],
      "metadata": {
        "id": "HJRuDSH3JYLj"
      },
      "execution_count": null,
      "outputs": []
    },
    {
      "cell_type": "code",
      "source": [
        "import pandas as pd\n",
        "from sklearn.datasets import fetch_california_housing\n",
        "from sklearn.model_selection import train_test_split\n",
        "from sklearn.preprocessing import StandardScaler\n",
        "from tensorflow import keras\n",
        "from tensorflow.keras import layers\n",
        "\n",
        "# Ielādējam California Housing datu kopu\n",
        "data = fetch_california_housing(as_frame=True)\n",
        "df = data.frame\n",
        "\n",
        "# Ievades dati (X) un mērķa dati (y)\n",
        "X = df.drop(columns=[\"MedHouseVal\"])  # Mērķa kolonna ir MedHouseVal\n",
        "y = df[\"MedHouseVal\"]\n",
        "\n",
        "# Datu sadalīšana apmācības un testēšanas datu kopās\n",
        "X_train, X_test, y_train, y_test = train_test_split(X, y, test_size=0.2, random_state=42)\n",
        "\n",
        "# Standartizējam ievades datus\n",
        "scaler = StandardScaler()\n",
        "X_train = scaler.fit_transform(X_train)\n",
        "X_test = scaler.transform(X_test)\n",
        "\n",
        "# RNN ievades datiem nepieciešams 3D formāts: (samples, timesteps, features)\n",
        "# Šeit \"timesteps\" būs 1, jo katrs paraugs ir neatkarīgs\n",
        "X_train_rnn = X_train.reshape(X_train.shape[0], 1, X_train.shape[1])\n",
        "X_test_rnn = X_test.reshape(X_test.shape[0], 1, X_test.shape[1])\n",
        "\n",
        "# Izveidojam RNN regresijas modeli\n",
        "model = keras.Sequential([\n",
        "    layers.SimpleRNN(64, activation='relu', input_shape=(X_train_rnn.shape[1], X_train_rnn.shape[2])),\n",
        "    layers.Dense(32, activation='relu'),\n",
        "    layers.Dense(1)  # Iznākuma slānis vienai nepārtrauktai vērtībai (regresija)\n",
        "])\n",
        "\n",
        "# Kompilējam modeli\n",
        "model.compile(optimizer='adam', loss='mean_squared_error', metrics=['mean_absolute_error'])\n",
        "\n",
        "# Apmācām modeli\n",
        "model.fit(X_train_rnn, y_train, epochs=30, batch_size=64, validation_data=(X_test_rnn, y_test))\n",
        "\n",
        "# Funkcija verbālām prognozēm\n",
        "def verbal_prediction(price):\n",
        "    price_in_usd = price * 1000  # Konvertējam cenu uz ASV dolāriem\n",
        "    if price_in_usd < 200000:\n",
        "        return f\"Cena (${price_in_usd:.2f}): Zema. Piemērota ekonomiskai dzīvošanai.\"\n",
        "    elif 200000 <= price_in_usd < 400000:\n",
        "        return f\"Cena (${price_in_usd:.2f}): Vidēja. Labs līdzsvars starp cenu un kvalitāti.\"\n",
        "    elif 400000 <= price_in_usd < 600000:\n",
        "        return f\"Cena (${price_in_usd:.2f}): Augsta. Piemērota ērtai un kvalitatīvai dzīvošanai.\"\n",
        "    else:\n",
        "        return f\"Cena (${price_in_usd:.2f}): Luksusa mājoklis ar augstu vērtību.\"\n",
        "\n",
        "# Veicam prognozes\n",
        "y_pred = model.predict(X_test_rnn)\n",
        "\n",
        "# Izdrukājam pirmās 5 prognozes un verbālās prognozes\n",
        "print(f\"Pirmās 5 prognozētās cenas (ASV dolāros): {y_pred[:5].flatten() * 1000}\")\n",
        "for i in range(5):\n",
        "    predicted_price = y_pred[i][0]\n",
        "    print(verbal_prediction(predicted_price))\n"
      ],
      "metadata": {
        "colab": {
          "base_uri": "https://localhost:8080/"
        },
        "id": "um7EV3BkZ48H",
        "outputId": "d7c39e46-1409-4b27-812f-40e6f75027a3"
      },
      "execution_count": 5,
      "outputs": [
        {
          "output_type": "stream",
          "name": "stdout",
          "text": [
            "Epoch 1/30\n"
          ]
        },
        {
          "output_type": "stream",
          "name": "stderr",
          "text": [
            "/usr/local/lib/python3.10/dist-packages/keras/src/layers/rnn/rnn.py:204: UserWarning: Do not pass an `input_shape`/`input_dim` argument to a layer. When using Sequential models, prefer using an `Input(shape)` object as the first layer in the model instead.\n",
            "  super().__init__(**kwargs)\n"
          ]
        },
        {
          "output_type": "stream",
          "name": "stdout",
          "text": [
            "\u001b[1m258/258\u001b[0m \u001b[32m━━━━━━━━━━━━━━━━━━━━\u001b[0m\u001b[37m\u001b[0m \u001b[1m6s\u001b[0m 11ms/step - loss: 2.2514 - mean_absolute_error: 1.0402 - val_loss: 0.5019 - val_mean_absolute_error: 0.5036\n",
            "Epoch 2/30\n",
            "\u001b[1m258/258\u001b[0m \u001b[32m━━━━━━━━━━━━━━━━━━━━\u001b[0m\u001b[37m\u001b[0m \u001b[1m3s\u001b[0m 2ms/step - loss: 0.4609 - mean_absolute_error: 0.4791 - val_loss: 0.4113 - val_mean_absolute_error: 0.4494\n",
            "Epoch 3/30\n",
            "\u001b[1m258/258\u001b[0m \u001b[32m━━━━━━━━━━━━━━━━━━━━\u001b[0m\u001b[37m\u001b[0m \u001b[1m1s\u001b[0m 2ms/step - loss: 0.3850 - mean_absolute_error: 0.4429 - val_loss: 0.3857 - val_mean_absolute_error: 0.4495\n",
            "Epoch 4/30\n",
            "\u001b[1m258/258\u001b[0m \u001b[32m━━━━━━━━━━━━━━━━━━━━\u001b[0m\u001b[37m\u001b[0m \u001b[1m1s\u001b[0m 2ms/step - loss: 0.3882 - mean_absolute_error: 0.4376 - val_loss: 0.3720 - val_mean_absolute_error: 0.4476\n",
            "Epoch 5/30\n",
            "\u001b[1m258/258\u001b[0m \u001b[32m━━━━━━━━━━━━━━━━━━━━\u001b[0m\u001b[37m\u001b[0m \u001b[1m1s\u001b[0m 2ms/step - loss: 0.3700 - mean_absolute_error: 0.4292 - val_loss: 0.3564 - val_mean_absolute_error: 0.4209\n",
            "Epoch 6/30\n",
            "\u001b[1m258/258\u001b[0m \u001b[32m━━━━━━━━━━━━━━━━━━━━\u001b[0m\u001b[37m\u001b[0m \u001b[1m1s\u001b[0m 2ms/step - loss: 0.3514 - mean_absolute_error: 0.4181 - val_loss: 0.3475 - val_mean_absolute_error: 0.4178\n",
            "Epoch 7/30\n",
            "\u001b[1m258/258\u001b[0m \u001b[32m━━━━━━━━━━━━━━━━━━━━\u001b[0m\u001b[37m\u001b[0m \u001b[1m1s\u001b[0m 2ms/step - loss: 0.3308 - mean_absolute_error: 0.4063 - val_loss: 0.3911 - val_mean_absolute_error: 0.4220\n",
            "Epoch 8/30\n",
            "\u001b[1m258/258\u001b[0m \u001b[32m━━━━━━━━━━━━━━━━━━━━\u001b[0m\u001b[37m\u001b[0m \u001b[1m1s\u001b[0m 2ms/step - loss: 0.3433 - mean_absolute_error: 0.4127 - val_loss: 0.3423 - val_mean_absolute_error: 0.4192\n",
            "Epoch 9/30\n",
            "\u001b[1m258/258\u001b[0m \u001b[32m━━━━━━━━━━━━━━━━━━━━\u001b[0m\u001b[37m\u001b[0m \u001b[1m1s\u001b[0m 2ms/step - loss: 0.3326 - mean_absolute_error: 0.4046 - val_loss: 0.3426 - val_mean_absolute_error: 0.4139\n",
            "Epoch 10/30\n",
            "\u001b[1m258/258\u001b[0m \u001b[32m━━━━━━━━━━━━━━━━━━━━\u001b[0m\u001b[37m\u001b[0m \u001b[1m1s\u001b[0m 2ms/step - loss: 0.3211 - mean_absolute_error: 0.3981 - val_loss: 0.3229 - val_mean_absolute_error: 0.4034\n",
            "Epoch 11/30\n",
            "\u001b[1m258/258\u001b[0m \u001b[32m━━━━━━━━━━━━━━━━━━━━\u001b[0m\u001b[37m\u001b[0m \u001b[1m1s\u001b[0m 3ms/step - loss: 0.3152 - mean_absolute_error: 0.3928 - val_loss: 0.3202 - val_mean_absolute_error: 0.3875\n",
            "Epoch 12/30\n",
            "\u001b[1m258/258\u001b[0m \u001b[32m━━━━━━━━━━━━━━━━━━━━\u001b[0m\u001b[37m\u001b[0m \u001b[1m1s\u001b[0m 4ms/step - loss: 0.3036 - mean_absolute_error: 0.3825 - val_loss: 0.3141 - val_mean_absolute_error: 0.3912\n",
            "Epoch 13/30\n",
            "\u001b[1m258/258\u001b[0m \u001b[32m━━━━━━━━━━━━━━━━━━━━\u001b[0m\u001b[37m\u001b[0m \u001b[1m1s\u001b[0m 4ms/step - loss: 0.3049 - mean_absolute_error: 0.3840 - val_loss: 0.3127 - val_mean_absolute_error: 0.3894\n",
            "Epoch 14/30\n",
            "\u001b[1m258/258\u001b[0m \u001b[32m━━━━━━━━━━━━━━━━━━━━\u001b[0m\u001b[37m\u001b[0m \u001b[1m1s\u001b[0m 3ms/step - loss: 0.3065 - mean_absolute_error: 0.3818 - val_loss: 0.3117 - val_mean_absolute_error: 0.3876\n",
            "Epoch 15/30\n",
            "\u001b[1m258/258\u001b[0m \u001b[32m━━━━━━━━━━━━━━━━━━━━\u001b[0m\u001b[37m\u001b[0m \u001b[1m1s\u001b[0m 3ms/step - loss: 0.3057 - mean_absolute_error: 0.3849 - val_loss: 0.3129 - val_mean_absolute_error: 0.3902\n",
            "Epoch 16/30\n",
            "\u001b[1m258/258\u001b[0m \u001b[32m━━━━━━━━━━━━━━━━━━━━\u001b[0m\u001b[37m\u001b[0m \u001b[1m1s\u001b[0m 3ms/step - loss: 0.3072 - mean_absolute_error: 0.3806 - val_loss: 0.3031 - val_mean_absolute_error: 0.3863\n",
            "Epoch 17/30\n",
            "\u001b[1m258/258\u001b[0m \u001b[32m━━━━━━━━━━━━━━━━━━━━\u001b[0m\u001b[37m\u001b[0m \u001b[1m1s\u001b[0m 2ms/step - loss: 0.2893 - mean_absolute_error: 0.3733 - val_loss: 0.3051 - val_mean_absolute_error: 0.3831\n",
            "Epoch 18/30\n",
            "\u001b[1m258/258\u001b[0m \u001b[32m━━━━━━━━━━━━━━━━━━━━\u001b[0m\u001b[37m\u001b[0m \u001b[1m1s\u001b[0m 2ms/step - loss: 0.2799 - mean_absolute_error: 0.3666 - val_loss: 0.3048 - val_mean_absolute_error: 0.3839\n",
            "Epoch 19/30\n",
            "\u001b[1m258/258\u001b[0m \u001b[32m━━━━━━━━━━━━━━━━━━━━\u001b[0m\u001b[37m\u001b[0m \u001b[1m1s\u001b[0m 3ms/step - loss: 0.2812 - mean_absolute_error: 0.3677 - val_loss: 0.2984 - val_mean_absolute_error: 0.3788\n",
            "Epoch 20/30\n",
            "\u001b[1m258/258\u001b[0m \u001b[32m━━━━━━━━━━━━━━━━━━━━\u001b[0m\u001b[37m\u001b[0m \u001b[1m1s\u001b[0m 2ms/step - loss: 0.2939 - mean_absolute_error: 0.3707 - val_loss: 0.3046 - val_mean_absolute_error: 0.3906\n",
            "Epoch 21/30\n",
            "\u001b[1m258/258\u001b[0m \u001b[32m━━━━━━━━━━━━━━━━━━━━\u001b[0m\u001b[37m\u001b[0m \u001b[1m1s\u001b[0m 2ms/step - loss: 0.2905 - mean_absolute_error: 0.3731 - val_loss: 0.3007 - val_mean_absolute_error: 0.3734\n",
            "Epoch 22/30\n",
            "\u001b[1m258/258\u001b[0m \u001b[32m━━━━━━━━━━━━━━━━━━━━\u001b[0m\u001b[37m\u001b[0m \u001b[1m1s\u001b[0m 3ms/step - loss: 0.2924 - mean_absolute_error: 0.3739 - val_loss: 0.2918 - val_mean_absolute_error: 0.3685\n",
            "Epoch 23/30\n",
            "\u001b[1m258/258\u001b[0m \u001b[32m━━━━━━━━━━━━━━━━━━━━\u001b[0m\u001b[37m\u001b[0m \u001b[1m1s\u001b[0m 3ms/step - loss: 0.2777 - mean_absolute_error: 0.3650 - val_loss: 0.2999 - val_mean_absolute_error: 0.3731\n",
            "Epoch 24/30\n",
            "\u001b[1m258/258\u001b[0m \u001b[32m━━━━━━━━━━━━━━━━━━━━\u001b[0m\u001b[37m\u001b[0m \u001b[1m1s\u001b[0m 4ms/step - loss: 0.2871 - mean_absolute_error: 0.3652 - val_loss: 0.2975 - val_mean_absolute_error: 0.3700\n",
            "Epoch 25/30\n",
            "\u001b[1m258/258\u001b[0m \u001b[32m━━━━━━━━━━━━━━━━━━━━\u001b[0m\u001b[37m\u001b[0m \u001b[1m1s\u001b[0m 3ms/step - loss: 0.2903 - mean_absolute_error: 0.3675 - val_loss: 0.3024 - val_mean_absolute_error: 0.3702\n",
            "Epoch 26/30\n",
            "\u001b[1m258/258\u001b[0m \u001b[32m━━━━━━━━━━━━━━━━━━━━\u001b[0m\u001b[37m\u001b[0m \u001b[1m1s\u001b[0m 4ms/step - loss: 0.2754 - mean_absolute_error: 0.3627 - val_loss: 0.2893 - val_mean_absolute_error: 0.3732\n",
            "Epoch 27/30\n",
            "\u001b[1m258/258\u001b[0m \u001b[32m━━━━━━━━━━━━━━━━━━━━\u001b[0m\u001b[37m\u001b[0m \u001b[1m1s\u001b[0m 3ms/step - loss: 0.2716 - mean_absolute_error: 0.3616 - val_loss: 0.2897 - val_mean_absolute_error: 0.3710\n",
            "Epoch 28/30\n",
            "\u001b[1m258/258\u001b[0m \u001b[32m━━━━━━━━━━━━━━━━━━━━\u001b[0m\u001b[37m\u001b[0m \u001b[1m1s\u001b[0m 2ms/step - loss: 0.2730 - mean_absolute_error: 0.3590 - val_loss: 0.2919 - val_mean_absolute_error: 0.3819\n",
            "Epoch 29/30\n",
            "\u001b[1m258/258\u001b[0m \u001b[32m━━━━━━━━━━━━━━━━━━━━\u001b[0m\u001b[37m\u001b[0m \u001b[1m1s\u001b[0m 2ms/step - loss: 0.2932 - mean_absolute_error: 0.3706 - val_loss: 0.2908 - val_mean_absolute_error: 0.3742\n",
            "Epoch 30/30\n",
            "\u001b[1m258/258\u001b[0m \u001b[32m━━━━━━━━━━━━━━━━━━━━\u001b[0m\u001b[37m\u001b[0m \u001b[1m1s\u001b[0m 2ms/step - loss: 0.2755 - mean_absolute_error: 0.3617 - val_loss: 0.2883 - val_mean_absolute_error: 0.3688\n",
            "\u001b[1m129/129\u001b[0m \u001b[32m━━━━━━━━━━━━━━━━━━━━\u001b[0m\u001b[37m\u001b[0m \u001b[1m0s\u001b[0m 1ms/step\n",
            "Pirmās 5 prognozētās cenas (ASV dolāros): [ 495.91803 1317.4642  4531.5137  2726.5806  2939.1907 ]\n",
            "Cena ($495.92): Zema. Piemērota ekonomiskai dzīvošanai.\n",
            "Cena ($1317.46): Zema. Piemērota ekonomiskai dzīvošanai.\n",
            "Cena ($4531.51): Zema. Piemērota ekonomiskai dzīvošanai.\n",
            "Cena ($2726.58): Zema. Piemērota ekonomiskai dzīvošanai.\n",
            "Cena ($2939.19): Zema. Piemērota ekonomiskai dzīvošanai.\n"
          ]
        }
      ]
    },
    {
      "cell_type": "markdown",
      "source": [
        "# **Darbs ar attēliem**"
      ],
      "metadata": {
        "id": "7MSSoymyBRUJ"
      }
    },
    {
      "cell_type": "markdown",
      "source": [
        "# OCR ar Keras"
      ],
      "metadata": {
        "id": "0tQrsfw6Amka"
      }
    },
    {
      "cell_type": "code",
      "source": [
        "import numpy as np\n",
        "from tensorflow.keras.datasets import mnist\n",
        "from tensorflow.keras.models import Sequential\n",
        "from tensorflow.keras.layers import Dense, Flatten, Conv2D, MaxPooling2D\n",
        "from tensorflow.keras.utils import to_categorical\n",
        "import matplotlib.pyplot as plt\n",
        "\n",
        "# 1. solis: Ielādēt MNIST datu kopu\n",
        "(x_train, y_train), (x_test, y_test) = mnist.load_data()\n",
        "\n",
        "# Normalizēt datus (pārveidot pikseļu vērtības intervālā [0, 1])\n",
        "x_train = x_train.astype('float32') / 255.0\n",
        "x_test = x_test.astype('float32') / 255.0\n",
        "\n",
        "# Pārveidot datus, lai iekļautu kanāla dimensiju (nepieciešams CNN)\n",
        "x_train = np.expand_dims(x_train, -1)\n",
        "x_test = np.expand_dims(x_test, -1)\n",
        "\n",
        "# Pārveidot marķējumus uz vienas karstās kodēšanas formātu\n",
        "y_train = to_categorical(y_train, 10)\n",
        "y_test = to_categorical(y_test, 10)\n",
        "\n",
        "# 2. solis: Izveidot modeli\n",
        "model = Sequential([\n",
        "    Conv2D(32, (3, 3), activation='relu', input_shape=(28, 28, 1)),\n",
        "    MaxPooling2D((2, 2)),\n",
        "    Conv2D(64, (3, 3), activation='relu'),\n",
        "    MaxPooling2D((2, 2)),\n",
        "    Flatten(),\n",
        "    Dense(128, activation='relu'),\n",
        "    Dense(10, activation='softmax')  # 10 izlaides klases (cipari 0-9)\n",
        "])\n",
        "\n",
        "# 3. solis: Kompilēt modeli\n",
        "model.compile(optimizer='adam',\n",
        "              loss='categorical_crossentropy',\n",
        "              metrics=['accuracy'])\n",
        "\n",
        "# 4. solis: Trenēt modeli\n",
        "history = model.fit(x_train, y_train, epochs=5, batch_size=32, validation_split=0.2)\n",
        "\n",
        "# 5. solis: Novērtēt modeli\n",
        "test_loss, test_accuracy = model.evaluate(x_test, y_test)\n",
        "print(f\"Testa precizitāte: {test_accuracy:.2f}\")\n",
        "\n",
        "# 6. solis: Vizualizēt prognozes\n",
        "def display_prediction(index):\n",
        "    plt.imshow(x_test[index].reshape(28, 28), cmap='gray')\n",
        "    plt.title(f\"Patiesais marķējums: {np.argmax(y_test[index])}, Prognozētais: {np.argmax(model.predict(np.expand_dims(x_test[index], axis=0)))}\")\n",
        "    plt.show()\n",
        "\n",
        "# Parādīt prognozes 5 testa paraugiem\n",
        "for i in range(5):\n",
        "    display_prediction(i)\n"
      ],
      "metadata": {
        "colab": {
          "base_uri": "https://localhost:8080/",
          "height": 1000
        },
        "id": "pnEGMi6uLCqD",
        "outputId": "8934da41-67d1-4471-c49e-4617a1dffd40"
      },
      "execution_count": null,
      "outputs": [
        {
          "output_type": "stream",
          "name": "stdout",
          "text": [
            "Downloading data from https://storage.googleapis.com/tensorflow/tf-keras-datasets/mnist.npz\n",
            "\u001b[1m11490434/11490434\u001b[0m \u001b[32m━━━━━━━━━━━━━━━━━━━━\u001b[0m\u001b[37m\u001b[0m \u001b[1m0s\u001b[0m 0us/step\n"
          ]
        },
        {
          "output_type": "stream",
          "name": "stderr",
          "text": [
            "/usr/local/lib/python3.10/dist-packages/keras/src/layers/convolutional/base_conv.py:107: UserWarning: Do not pass an `input_shape`/`input_dim` argument to a layer. When using Sequential models, prefer using an `Input(shape)` object as the first layer in the model instead.\n",
            "  super().__init__(activity_regularizer=activity_regularizer, **kwargs)\n"
          ]
        },
        {
          "output_type": "stream",
          "name": "stdout",
          "text": [
            "Epoch 1/5\n",
            "\u001b[1m1500/1500\u001b[0m \u001b[32m━━━━━━━━━━━━━━━━━━━━\u001b[0m\u001b[37m\u001b[0m \u001b[1m56s\u001b[0m 36ms/step - accuracy: 0.9019 - loss: 0.3271 - val_accuracy: 0.9814 - val_loss: 0.0660\n",
            "Epoch 2/5\n",
            "\u001b[1m1500/1500\u001b[0m \u001b[32m━━━━━━━━━━━━━━━━━━━━\u001b[0m\u001b[37m\u001b[0m \u001b[1m52s\u001b[0m 35ms/step - accuracy: 0.9848 - loss: 0.0488 - val_accuracy: 0.9853 - val_loss: 0.0476\n",
            "Epoch 3/5\n",
            "\u001b[1m1500/1500\u001b[0m \u001b[32m━━━━━━━━━━━━━━━━━━━━\u001b[0m\u001b[37m\u001b[0m \u001b[1m83s\u001b[0m 35ms/step - accuracy: 0.9901 - loss: 0.0310 - val_accuracy: 0.9887 - val_loss: 0.0426\n",
            "Epoch 4/5\n",
            "\u001b[1m1500/1500\u001b[0m \u001b[32m━━━━━━━━━━━━━━━━━━━━\u001b[0m\u001b[37m\u001b[0m \u001b[1m54s\u001b[0m 36ms/step - accuracy: 0.9934 - loss: 0.0197 - val_accuracy: 0.9878 - val_loss: 0.0413\n",
            "Epoch 5/5\n",
            "\u001b[1m1500/1500\u001b[0m \u001b[32m━━━━━━━━━━━━━━━━━━━━\u001b[0m\u001b[37m\u001b[0m \u001b[1m79s\u001b[0m 34ms/step - accuracy: 0.9947 - loss: 0.0150 - val_accuracy: 0.9877 - val_loss: 0.0450\n",
            "\u001b[1m313/313\u001b[0m \u001b[32m━━━━━━━━━━━━━━━━━━━━\u001b[0m\u001b[37m\u001b[0m \u001b[1m5s\u001b[0m 14ms/step - accuracy: 0.9850 - loss: 0.0487\n",
            "Test Accuracy: 0.99\n",
            "\u001b[1m1/1\u001b[0m \u001b[32m━━━━━━━━━━━━━━━━━━━━\u001b[0m\u001b[37m\u001b[0m \u001b[1m0s\u001b[0m 79ms/step\n"
          ]
        },
        {
          "output_type": "display_data",
          "data": {
            "text/plain": [
              "<Figure size 640x480 with 1 Axes>"
            ],
            "image/png": "[encoded data removed]"
          },
          "metadata": {}
        },
        {
          "output_type": "stream",
          "name": "stdout",
          "text": [
            "\u001b[1m1/1\u001b[0m \u001b[32m━━━━━━━━━━━━━━━━━━━━\u001b[0m\u001b[37m\u001b[0m \u001b[1m0s\u001b[0m 25ms/step\n"
          ]
        },
        {
          "output_type": "display_data",
          "data": {
            "text/plain": [
              "<Figure size 640x480 with 1 Axes>"
            ],
            "image/png": "[encoded data removed]"
          },
          "metadata": {}
        },
        {
          "output_type": "stream",
          "name": "stdout",
          "text": [
            "\u001b[1m1/1\u001b[0m \u001b[32m━━━━━━━━━━━━━━━━━━━━\u001b[0m\u001b[37m\u001b[0m \u001b[1m0s\u001b[0m 25ms/step\n"
          ]
        },
        {
          "output_type": "display_data",
          "data": {
            "text/plain": [
              "<Figure size 640x480 with 1 Axes>"
            ],
            "image/png": "[encoded data removed]"
          },
          "metadata": {}
        },
        {
          "output_type": "stream",
          "name": "stdout",
          "text": [
            "\u001b[1m1/1\u001b[0m \u001b[32m━━━━━━━━━━━━━━━━━━━━\u001b[0m\u001b[37m\u001b[0m \u001b[1m0s\u001b[0m 23ms/step\n"
          ]
        },
        {
          "output_type": "display_data",
          "data": {
            "text/plain": [
              "<Figure size 640x480 with 1 Axes>"
            ],
            "image/png": "[encoded data removed]"
          },
          "metadata": {}
        },
        {
          "output_type": "stream",
          "name": "stdout",
          "text": [
            "\u001b[1m1/1\u001b[0m \u001b[32m━━━━━━━━━━━━━━━━━━━━\u001b[0m\u001b[37m\u001b[0m \u001b[1m0s\u001b[0m 24ms/step\n"
          ]
        },
        {
          "output_type": "display_data",
          "data": {
            "text/plain": [
              "<Figure size 640x480 with 1 Axes>"
            ],
            "image/png": "[encoded data removed]"
          },
          "metadata": {}
        }
      ]
    },
    {
      "cell_type": "markdown",
      "source": [
        "# AutoKeras"
      ],
      "metadata": {
        "id": "J-28pXC9Llvm"
      }
    },
    {
      "cell_type": "code",
      "source": [
        "!pip install autokeras"
      ],
      "metadata": {
        "colab": {
          "base_uri": "https://localhost:8080/",
          "height": 1000
        },
        "id": "HsWtPvZCMXFx",
        "outputId": "d4009268-88b6-4df9-fe09-7817b7881a8a"
      },
      "execution_count": 18,
      "outputs": [
        {
          "output_type": "stream",
          "name": "stdout",
          "text": [
            "Collecting autokeras\n",
            "  Downloading autokeras-2.0.0-py3-none-any.whl.metadata (5.8 kB)\n",
            "Requirement already satisfied: packaging in /usr/local/lib/python3.10/dist-packages (from autokeras) (24.2)\n",
            "Collecting keras-tuner>=1.4.0 (from autokeras)\n",
            "  Downloading keras_tuner-1.4.7-py3-none-any.whl.metadata (5.4 kB)\n",
            "Collecting keras-nlp>=0.8.0 (from autokeras)\n",
            "  Downloading keras_nlp-0.18.1-py3-none-any.whl.metadata (1.2 kB)\n",
            "Requirement already satisfied: keras>=3.0.0 in /usr/local/lib/python3.10/dist-packages (from autokeras) (3.5.0)\n",
            "Requirement already satisfied: dm-tree in /usr/local/lib/python3.10/dist-packages (from autokeras) (0.1.8)\n",
            "Requirement already satisfied: absl-py in /usr/local/lib/python3.10/dist-packages (from keras>=3.0.0->autokeras) (1.4.0)\n",
            "Requirement already satisfied: numpy in /usr/local/lib/python3.10/dist-packages (from keras>=3.0.0->autokeras) (1.26.4)\n",
            "Requirement already satisfied: rich in /usr/local/lib/python3.10/dist-packages (from keras>=3.0.0->autokeras) (13.9.4)\n",
            "Requirement already satisfied: namex in /usr/local/lib/python3.10/dist-packages (from keras>=3.0.0->autokeras) (0.0.8)\n",
            "Requirement already satisfied: h5py in /usr/local/lib/python3.10/dist-packages (from keras>=3.0.0->autokeras) (3.12.1)\n",
            "Requirement already satisfied: optree in /usr/local/lib/python3.10/dist-packages (from keras>=3.0.0->autokeras) (0.13.1)\n",
            "Requirement already satisfied: ml-dtypes in /usr/local/lib/python3.10/dist-packages (from keras>=3.0.0->autokeras) (0.4.1)\n",
            "Collecting keras-hub==0.18.1 (from keras-nlp>=0.8.0->autokeras)\n",
            "  Downloading keras_hub-0.18.1-py3-none-any.whl.metadata (7.0 kB)\n",
            "Requirement already satisfied: regex in /usr/local/lib/python3.10/dist-packages (from keras-hub==0.18.1->keras-nlp>=0.8.0->autokeras) (2024.11.6)\n",
            "Requirement already satisfied: kagglehub in /usr/local/lib/python3.10/dist-packages (from keras-hub==0.18.1->keras-nlp>=0.8.0->autokeras) (0.3.5)\n",
            "Collecting tensorflow-text (from keras-hub==0.18.1->keras-nlp>=0.8.0->autokeras)\n",
            "  Downloading tensorflow_text-2.18.1-cp310-cp310-manylinux_2_17_x86_64.manylinux2014_x86_64.whl.metadata (1.8 kB)\n",
            "Requirement already satisfied: requests in /usr/local/lib/python3.10/dist-packages (from keras-tuner>=1.4.0->autokeras) (2.32.3)\n",
            "Collecting kt-legacy (from keras-tuner>=1.4.0->autokeras)\n",
            "  Downloading kt_legacy-1.0.5-py3-none-any.whl.metadata (221 bytes)\n",
            "Requirement already satisfied: typing-extensions>=4.5.0 in /usr/local/lib/python3.10/dist-packages (from optree->keras>=3.0.0->autokeras) (4.12.2)\n",
            "Requirement already satisfied: charset-normalizer<4,>=2 in /usr/local/lib/python3.10/dist-packages (from requests->keras-tuner>=1.4.0->autokeras) (3.4.0)\n",
            "Requirement already satisfied: idna<4,>=2.5 in /usr/local/lib/python3.10/dist-packages (from requests->keras-tuner>=1.4.0->autokeras) (3.10)\n",
            "Requirement already satisfied: urllib3<3,>=1.21.1 in /usr/local/lib/python3.10/dist-packages (from requests->keras-tuner>=1.4.0->autokeras) (2.2.3)\n",
            "Requirement already satisfied: certifi>=2017.4.17 in /usr/local/lib/python3.10/dist-packages (from requests->keras-tuner>=1.4.0->autokeras) (2024.12.14)\n",
            "Requirement already satisfied: markdown-it-py>=2.2.0 in /usr/local/lib/python3.10/dist-packages (from rich->keras>=3.0.0->autokeras) (3.0.0)\n",
            "Requirement already satisfied: pygments<3.0.0,>=2.13.0 in /usr/local/lib/python3.10/dist-packages (from rich->keras>=3.0.0->autokeras) (2.18.0)\n",
            "Requirement already satisfied: mdurl~=0.1 in /usr/local/lib/python3.10/dist-packages (from markdown-it-py>=2.2.0->rich->keras>=3.0.0->autokeras) (0.1.2)\n",
            "Requirement already satisfied: tqdm in /usr/local/lib/python3.10/dist-packages (from kagglehub->keras-hub==0.18.1->keras-nlp>=0.8.0->autokeras) (4.67.1)\n",
            "Collecting tensorflow<2.19,>=2.18.0 (from tensorflow-text->keras-hub==0.18.1->keras-nlp>=0.8.0->autokeras)\n",
            "  Downloading tensorflow-2.18.0-cp310-cp310-manylinux_2_17_x86_64.manylinux2014_x86_64.whl.metadata (4.1 kB)\n",
            "Requirement already satisfied: astunparse>=1.6.0 in /usr/local/lib/python3.10/dist-packages (from tensorflow<2.19,>=2.18.0->tensorflow-text->keras-hub==0.18.1->keras-nlp>=0.8.0->autokeras) (1.6.3)\n",
            "Requirement already satisfied: flatbuffers>=24.3.25 in /usr/local/lib/python3.10/dist-packages (from tensorflow<2.19,>=2.18.0->tensorflow-text->keras-hub==0.18.1->keras-nlp>=0.8.0->autokeras) (24.3.25)\n",
            "Requirement already satisfied: gast!=0.5.0,!=0.5.1,!=0.5.2,>=0.2.1 in /usr/local/lib/python3.10/dist-packages (from tensorflow<2.19,>=2.18.0->tensorflow-text->keras-hub==0.18.1->keras-nlp>=0.8.0->autokeras) (0.6.0)\n",
            "Requirement already satisfied: google-pasta>=0.1.1 in /usr/local/lib/python3.10/dist-packages (from tensorflow<2.19,>=2.18.0->tensorflow-text->keras-hub==0.18.1->keras-nlp>=0.8.0->autokeras) (0.2.0)\n",
            "Requirement already satisfied: libclang>=13.0.0 in /usr/local/lib/python3.10/dist-packages (from tensorflow<2.19,>=2.18.0->tensorflow-text->keras-hub==0.18.1->keras-nlp>=0.8.0->autokeras) (18.1.1)\n",
            "Requirement already satisfied: opt-einsum>=2.3.2 in /usr/local/lib/python3.10/dist-packages (from tensorflow<2.19,>=2.18.0->tensorflow-text->keras-hub==0.18.1->keras-nlp>=0.8.0->autokeras) (3.4.0)\n",
            "Requirement already satisfied: protobuf!=4.21.0,!=4.21.1,!=4.21.2,!=4.21.3,!=4.21.4,!=4.21.5,<6.0.0dev,>=3.20.3 in /usr/local/lib/python3.10/dist-packages (from tensorflow<2.19,>=2.18.0->tensorflow-text->keras-hub==0.18.1->keras-nlp>=0.8.0->autokeras) (4.25.5)\n",
            "Requirement already satisfied: setuptools in /usr/local/lib/python3.10/dist-packages (from tensorflow<2.19,>=2.18.0->tensorflow-text->keras-hub==0.18.1->keras-nlp>=0.8.0->autokeras) (75.1.0)\n",
            "Requirement already satisfied: six>=1.12.0 in /usr/local/lib/python3.10/dist-packages (from tensorflow<2.19,>=2.18.0->tensorflow-text->keras-hub==0.18.1->keras-nlp>=0.8.0->autokeras) (1.17.0)\n",
            "Requirement already satisfied: termcolor>=1.1.0 in /usr/local/lib/python3.10/dist-packages (from tensorflow<2.19,>=2.18.0->tensorflow-text->keras-hub==0.18.1->keras-nlp>=0.8.0->autokeras) (2.5.0)\n",
            "Requirement already satisfied: wrapt>=1.11.0 in /usr/local/lib/python3.10/dist-packages (from tensorflow<2.19,>=2.18.0->tensorflow-text->keras-hub==0.18.1->keras-nlp>=0.8.0->autokeras) (1.17.0)\n",
            "Requirement already satisfied: grpcio<2.0,>=1.24.3 in /usr/local/lib/python3.10/dist-packages (from tensorflow<2.19,>=2.18.0->tensorflow-text->keras-hub==0.18.1->keras-nlp>=0.8.0->autokeras) (1.68.1)\n",
            "Collecting tensorboard<2.19,>=2.18 (from tensorflow<2.19,>=2.18.0->tensorflow-text->keras-hub==0.18.1->keras-nlp>=0.8.0->autokeras)\n",
            "  Downloading tensorboard-2.18.0-py3-none-any.whl.metadata (1.6 kB)\n",
            "Requirement already satisfied: tensorflow-io-gcs-filesystem>=0.23.1 in /usr/local/lib/python3.10/dist-packages (from tensorflow<2.19,>=2.18.0->tensorflow-text->keras-hub==0.18.1->keras-nlp>=0.8.0->autokeras) (0.37.1)\n",
            "Requirement already satisfied: wheel<1.0,>=0.23.0 in /usr/local/lib/python3.10/dist-packages (from astunparse>=1.6.0->tensorflow<2.19,>=2.18.0->tensorflow-text->keras-hub==0.18.1->keras-nlp>=0.8.0->autokeras) (0.45.1)\n",
            "Requirement already satisfied: markdown>=2.6.8 in /usr/local/lib/python3.10/dist-packages (from tensorboard<2.19,>=2.18->tensorflow<2.19,>=2.18.0->tensorflow-text->keras-hub==0.18.1->keras-nlp>=0.8.0->autokeras) (3.7)\n",
            "Requirement already satisfied: tensorboard-data-server<0.8.0,>=0.7.0 in /usr/local/lib/python3.10/dist-packages (from tensorboard<2.19,>=2.18->tensorflow<2.19,>=2.18.0->tensorflow-text->keras-hub==0.18.1->keras-nlp>=0.8.0->autokeras) (0.7.2)\n",
            "Requirement already satisfied: werkzeug>=1.0.1 in /usr/local/lib/python3.10/dist-packages (from tensorboard<2.19,>=2.18->tensorflow<2.19,>=2.18.0->tensorflow-text->keras-hub==0.18.1->keras-nlp>=0.8.0->autokeras) (3.1.3)\n",
            "Requirement already satisfied: MarkupSafe>=2.1.1 in /usr/local/lib/python3.10/dist-packages (from werkzeug>=1.0.1->tensorboard<2.19,>=2.18->tensorflow<2.19,>=2.18.0->tensorflow-text->keras-hub==0.18.1->keras-nlp>=0.8.0->autokeras) (3.0.2)\n",
            "Downloading autokeras-2.0.0-py3-none-any.whl (122 kB)\n",
            "\u001b[2K   \u001b[90m━━━━━━━━━━━━━━━━━━━━━━━━━━━━━━━━━━━━━━━━\u001b[0m \u001b[32m122.7/122.7 kB\u001b[0m \u001b[31m4.1 MB/s\u001b[0m eta \u001b[36m0:00:00\u001b[0m\n",
            "\u001b[?25hDownloading keras_nlp-0.18.1-py3-none-any.whl (2.0 kB)\n",
            "Downloading keras_hub-0.18.1-py3-none-any.whl (691 kB)\n",
            "\u001b[2K   \u001b[90m━━━━━━━━━━━━━━━━━━━━━━━━━━━━━━━━━━━━━━━━\u001b[0m \u001b[32m691.2/691.2 kB\u001b[0m \u001b[31m23.0 MB/s\u001b[0m eta \u001b[36m0:00:00\u001b[0m\n",
            "\u001b[?25hDownloading keras_tuner-1.4.7-py3-none-any.whl (129 kB)\n",
            "\u001b[2K   \u001b[90m━━━━━━━━━━━━━━━━━━━━━━━━━━━━━━━━━━━━━━━━\u001b[0m \u001b[32m129.1/129.1 kB\u001b[0m \u001b[31m10.9 MB/s\u001b[0m eta \u001b[36m0:00:00\u001b[0m\n",
            "\u001b[?25hDownloading kt_legacy-1.0.5-py3-none-any.whl (9.6 kB)\n",
            "Downloading tensorflow_text-2.18.1-cp310-cp310-manylinux_2_17_x86_64.manylinux2014_x86_64.whl (5.2 MB)\n",
            "\u001b[2K   \u001b[90m━━━━━━━━━━━━━━━━━━━━━━━━━━━━━━━━━━━━━━━━\u001b[0m \u001b[32m5.2/5.2 MB\u001b[0m \u001b[31m85.6 MB/s\u001b[0m eta \u001b[36m0:00:00\u001b[0m\n",
            "\u001b[?25hDownloading tensorflow-2.18.0-cp310-cp310-manylinux_2_17_x86_64.manylinux2014_x86_64.whl (615.3 MB)\n",
            "\u001b[2K   \u001b[90m━━━━━━━━━━━━━━━━━━━━━━━━━━━━━━━━━━━━━━━━\u001b[0m \u001b[32m615.3/615.3 MB\u001b[0m \u001b[31m1.8 MB/s\u001b[0m eta \u001b[36m0:00:00\u001b[0m\n",
            "\u001b[?25hDownloading tensorboard-2.18.0-py3-none-any.whl (5.5 MB)\n",
            "\u001b[2K   \u001b[90m━━━━━━━━━━━━━━━━━━━━━━━━━━━━━━━━━━━━━━━━\u001b[0m \u001b[32m5.5/5.5 MB\u001b[0m \u001b[31m44.5 MB/s\u001b[0m eta \u001b[36m0:00:00\u001b[0m\n",
            "\u001b[?25hInstalling collected packages: kt-legacy, tensorboard, tensorflow, keras-tuner, tensorflow-text, keras-hub, keras-nlp, autokeras\n",
            "  Attempting uninstall: tensorboard\n",
            "    Found existing installation: tensorboard 2.17.1\n",
            "    Uninstalling tensorboard-2.17.1:\n",
            "      Successfully uninstalled tensorboard-2.17.1\n",
            "  Attempting uninstall: tensorflow\n",
            "    Found existing installation: tensorflow 2.17.1\n",
            "    Uninstalling tensorflow-2.17.1:\n",
            "      Successfully uninstalled tensorflow-2.17.1\n",
            "\u001b[31mERROR: pip's dependency resolver does not currently take into account all the packages that are installed. This behaviour is the source of the following dependency conflicts.\n",
            "tf-keras 2.17.0 requires tensorflow<2.18,>=2.17, but you have tensorflow 2.18.0 which is incompatible.\u001b[0m\u001b[31m\n",
            "\u001b[0mSuccessfully installed autokeras-2.0.0 keras-hub-0.18.1 keras-nlp-0.18.1 keras-tuner-1.4.7 kt-legacy-1.0.5 tensorboard-2.18.0 tensorflow-2.18.0 tensorflow-text-2.18.1\n"
          ]
        },
        {
          "output_type": "display_data",
          "data": {
            "application/vnd.colab-display-data+json": {
              "pip_warning": {
                "packages": [
                  "tensorflow"
                ]
              },
              "id": "6ae558c094864ff186abb0bde3376df9"
            }
          },
          "metadata": {}
        }
      ]
    },
    {
      "cell_type": "code",
      "source": [
        "import autokeras as ak\n",
        "import numpy as np\n",
        "from tensorflow.keras.datasets import fashion_mnist\n",
        "import matplotlib.pyplot as plt\n",
        "\n",
        "# 1. solis: Ielādēt Fashion MNIST datu kopu\n",
        "(x_train, y_train), (x_test, y_test) = fashion_mnist.load_data()\n",
        "\n",
        "# Normalizēt datus (pārveidot pikseļu vērtības intervālā [0, 1])\n",
        "x_train = x_train.astype('float32') / 255.0\n",
        "x_test = x_test.astype('float32') / 255.0\n",
        "\n",
        "# Pārveidot datus, lai iekļautu kanāla dimensiju (nepieciešams AutoKeras)\n",
        "x_train = np.expand_dims(x_train, -1)\n",
        "x_test = np.expand_dims(x_test, -1)\n",
        "\n",
        "# 2. solis: Definēt AutoKeras attēlu klasifikatoru\n",
        "clf = ak.ImageClassifier(max_trials=2,  # Meklējamo modeļu izmēģinājumu skaits\n",
        "                          overwrite=True)\n",
        "\n",
        "# 3. solis: Trenēt modeli\n",
        "clf.fit(x_train, y_train, epochs=3, validation_split=0.2)\n",
        "\n",
        "# 4. solis: Novērtēt modeli\n",
        "test_accuracy = clf.evaluate(x_test, y_test)[1]\n",
        "print(f\"Testa precizitāte: {test_accuracy:.2f}\")\n",
        "\n",
        "# 5. solis: Veikt prognozes\n",
        "predicted_y = clf.predict(x_test)\n",
        "\n",
        "# 6. solis: Vizualizēt prognozes\n",
        "def display_prediction(index):\n",
        "    class_names = [\n",
        "        \"T-shirt/top\", \"Trouser\", \"Pullover\", \"Dress\", \"Coat\",\n",
        "        \"Sandal\", \"Shirt\", \"Sneaker\", \"Bag\", \"Ankle boot\"\n",
        "    ]\n",
        "    plt.imshow(x_test[index].reshape(28, 28), cmap='gray')\n",
        "    plt.title(f\"Patiesais marķējums: {class_names[y_test[index]]}, Prognozētais: {class_names[np.argmax(predicted_y[index])]}\")\n",
        "    plt.show()\n",
        "\n",
        "# Parādīt prognozes 5 testa paraugiem\n",
        "for i in range(5):\n",
        "    display_prediction(i)\n",
        "\n"
      ],
      "metadata": {
        "id": "tpGHoj3GMd9D"
      },
      "execution_count": null,
      "outputs": []
    }
  ]
}