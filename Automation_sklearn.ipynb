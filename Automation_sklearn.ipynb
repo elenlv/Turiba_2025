{
  "nbformat": 4,
  "nbformat_minor": 0,
  "metadata": {
    "colab": {
      "provenance": []
    },
    "kernelspec": {
      "name": "python3",
      "display_name": "Python 3"
    },
    "language_info": {
      "name": "python"
    }
  },
  "cells": [
    {
      "cell_type": "markdown",
      "source": [
        "# E-pastu vai dokumentu klasifikācija"
      ],
      "metadata": {
        "id": "Ff3O8u87VigW"
      }
    },
    {
      "cell_type": "code",
      "execution_count": 8,
      "metadata": {
        "colab": {
          "base_uri": "https://localhost:8080/"
        },
        "id": "2Y_WnerDVULR",
        "outputId": "069d6615-15d8-489f-80a6-a564ee79130d"
      },
      "outputs": [
        {
          "output_type": "stream",
          "name": "stdout",
          "text": [
            "['piezīmes', 'rēķins']\n",
            "              precision    recall  f1-score   support\n",
            "\n",
            "      līgums       0.00      0.00      0.00       0.0\n",
            "    piezīmes       0.00      0.00      0.00       1.0\n",
            "      rēķins       0.00      0.00      0.00       1.0\n",
            "\n",
            "    accuracy                           0.00       2.0\n",
            "   macro avg       0.00      0.00      0.00       2.0\n",
            "weighted avg       0.00      0.00      0.00       2.0\n",
            "\n"
          ]
        },
        {
          "output_type": "stream",
          "name": "stderr",
          "text": [
            "/usr/local/lib/python3.10/dist-packages/sklearn/metrics/_classification.py:1565: UndefinedMetricWarning: Precision is ill-defined and being set to 0.0 in labels with no predicted samples. Use `zero_division` parameter to control this behavior.\n",
            "  _warn_prf(average, modifier, f\"{metric.capitalize()} is\", len(result))\n",
            "/usr/local/lib/python3.10/dist-packages/sklearn/metrics/_classification.py:1565: UndefinedMetricWarning: Recall is ill-defined and being set to 0.0 in labels with no true samples. Use `zero_division` parameter to control this behavior.\n",
            "  _warn_prf(average, modifier, f\"{metric.capitalize()} is\", len(result))\n",
            "/usr/local/lib/python3.10/dist-packages/sklearn/metrics/_classification.py:1565: UndefinedMetricWarning: Precision is ill-defined and being set to 0.0 in labels with no predicted samples. Use `zero_division` parameter to control this behavior.\n",
            "  _warn_prf(average, modifier, f\"{metric.capitalize()} is\", len(result))\n",
            "/usr/local/lib/python3.10/dist-packages/sklearn/metrics/_classification.py:1565: UndefinedMetricWarning: Recall is ill-defined and being set to 0.0 in labels with no true samples. Use `zero_division` parameter to control this behavior.\n",
            "  _warn_prf(average, modifier, f\"{metric.capitalize()} is\", len(result))\n",
            "/usr/local/lib/python3.10/dist-packages/sklearn/metrics/_classification.py:1565: UndefinedMetricWarning: Precision is ill-defined and being set to 0.0 in labels with no predicted samples. Use `zero_division` parameter to control this behavior.\n",
            "  _warn_prf(average, modifier, f\"{metric.capitalize()} is\", len(result))\n",
            "/usr/local/lib/python3.10/dist-packages/sklearn/metrics/_classification.py:1565: UndefinedMetricWarning: Recall is ill-defined and being set to 0.0 in labels with no true samples. Use `zero_division` parameter to control this behavior.\n",
            "  _warn_prf(average, modifier, f\"{metric.capitalize()} is\", len(result))\n"
          ]
        }
      ],
      "source": [
        "from sklearn.feature_extraction.text import TfidfVectorizer\n",
        "from sklearn.naive_bayes import MultinomialNB\n",
        "from sklearn.model_selection import train_test_split\n",
        "from sklearn.metrics import classification_report\n",
        "\n",
        "# Datu kopas piemērs: dokumenti un to kategorijas\n",
        "documents = [\n",
        "    \"Rēķins par projektu X\",\n",
        "    \"Līgums par projektu Y\",\n",
        "    \"Sanāksmes piezīmes par komandu A\",\n",
        "    \"Rēķins par projektu Z\",\n",
        "    \"Līgums par komandu B\"\n",
        "]\n",
        "labels = [\"rēķins\", \"līgums\", \"piezīmes\", \"rēķins\", \"līgums\"]\n",
        "\n",
        "# Teksta konvertēšana skaitliskās iezīmēs\n",
        "vectorizer = TfidfVectorizer()\n",
        "X = vectorizer.fit_transform(documents)\n",
        "y = labels\n",
        "\n",
        "# Modeļa trenēšana\n",
        "X_train, X_test, y_train, y_test = train_test_split(X, y, test_size=0.3,) #random_state=42)\n",
        "model = MultinomialNB()\n",
        "model.fit(X_train, y_train)\n",
        "\n",
        "# Kategoriju prognozēšana\n",
        "print(y_test)\n",
        "y_pred = model.predict(X_test)\n",
        "print(classification_report(y_test, y_pred))\n"
      ]
    },
    {
      "cell_type": "markdown",
      "source": [
        "#  Dokumentu grupēšana (klasterēšana)"
      ],
      "metadata": {
        "id": "nxmNpkgeYdWU"
      }
    },
    {
      "cell_type": "code",
      "source": [
        "from sklearn.feature_extraction.text import TfidfVectorizer\n",
        "from sklearn.cluster import KMeans\n",
        "\n",
        "# Dokumentu piemēri\n",
        "documents = [\n",
        "    \"Rēķins par projektu X\",\n",
        "    \"Līgums par projektu Y\",\n",
        "    \"Sanāksmes piezīmes par komandu A\",\n",
        "    \"Rēķins par projektu Z\",\n",
        "    \"Līgums par komandu B\"\n",
        "]\n",
        "\n",
        "# Teksta konvertēšana skaitliskās iezīmēs\n",
        "vectorizer = TfidfVectorizer()\n",
        "X = vectorizer.fit_transform(documents)\n",
        "\n",
        "# Klasterēšana KMeans grupē datus 2 klasteros (n_clusters=2)\n",
        "kmeans = KMeans(n_clusters=2, random_state=42)\n",
        "clusters = kmeans.fit_predict(X)\n",
        "\n",
        "# Klasteru rezultāti\n",
        "for i, doc in enumerate(documents):\n",
        "    print(f\"Dokuments: {doc} -> Klasteris: {clusters[i]}\")"
      ],
      "metadata": {
        "colab": {
          "base_uri": "https://localhost:8080/"
        },
        "id": "1YF0gYYnYYS0",
        "outputId": "3126123a-69ae-4315-8c53-80501ff35209"
      },
      "execution_count": 10,
      "outputs": [
        {
          "output_type": "stream",
          "name": "stdout",
          "text": [
            "Dokuments: Rēķins par projektu X -> Klasteris: 1\n",
            "Dokuments: Līgums par projektu Y -> Klasteris: 0\n",
            "Dokuments: Sanāksmes piezīmes par komandu A -> Klasteris: 0\n",
            "Dokuments: Rēķins par projektu Z -> Klasteris: 1\n",
            "Dokuments: Līgums par komandu B -> Klasteris: 0\n"
          ]
        }
      ]
    },
    {
      "cell_type": "markdown",
      "source": [
        "# Darba slodzes prognozēšana"
      ],
      "metadata": {
        "id": "p6VF_MLjY6gE"
      }
    },
    {
      "cell_type": "code",
      "source": [
        "from sklearn.linear_model import LinearRegression\n",
        "import numpy as np\n",
        "\n",
        "# Dati: dokumentu skaits, kas apstrādāts katru dienu\n",
        "days = np.array(range(1, 11)).reshape(-1, 1)  # Dienas no 1 līdz 10\n",
        "# documents_processed norāda dokumentu apstrādes slodzi\n",
        "documents_processed = np.array([5, 7, 6, 8, 10, 12, 11, 13, 15, 17])\n",
        "\n",
        "# Lineārās regresijas modeļa apmācība\n",
        "model = LinearRegression()\n",
        "model.fit(days, documents_processed)\n",
        "\n",
        "# Prognozēšana nākotnes dienām\n",
        "future_days = np.array(range(11, 16)).reshape(-1, 1)  # Dienas no 11 līdz 15\n",
        "forecast = model.predict(future_days)\n",
        "print(\"Prognozētie dokumenti:\", forecast)"
      ],
      "metadata": {
        "colab": {
          "base_uri": "https://localhost:8080/"
        },
        "id": "MshLpJQxZAjF",
        "outputId": "a1929cb4-adff-435f-be01-913d95e85031"
      },
      "execution_count": 12,
      "outputs": [
        {
          "output_type": "stream",
          "name": "stdout",
          "text": [
            "Prognozētie dokumenti: [17.4        18.67272727 19.94545455 21.21818182 22.49090909]\n"
          ]
        }
      ]
    },
    {
      "cell_type": "markdown",
      "source": [
        "# Automatizēta anomāliju noteikšana"
      ],
      "metadata": {
        "id": "sc8HCr7zaAge"
      }
    },
    {
      "cell_type": "code",
      "source": [
        "# Šis piemērs identificē apstrādes laikus kas atšķiras no normas, izmantojot IsolationForest.\n",
        "from sklearn.ensemble import IsolationForest\n",
        "\n",
        "# Dati: apstrādes laiki (sekundēs)\n",
        "processing_times = [[30], [28], [32], [45], [29], [500], [31], [27], [28], [400]]\n",
        "\n",
        "# Isolation Forest modeļa apmācība\n",
        "model = IsolationForest(contamination=0.2, random_state=42)\n",
        "anomalies = model.fit_predict(processing_times)\n",
        "\n",
        "# Rezultātu izvade\n",
        "for i, (time, label) in enumerate(zip(processing_times, anomalies)):\n",
        "    status = \"Anomālija\" if label == -1 else \"Normāls\"\n",
        "    print(f\"Apstrādes laiks {time[0]}: {status}\")"
      ],
      "metadata": {
        "colab": {
          "base_uri": "https://localhost:8080/"
        },
        "id": "N2WwbKNuaAFf",
        "outputId": "c8d1d946-07f8-4e1b-ba1e-dd2b8be83162"
      },
      "execution_count": 13,
      "outputs": [
        {
          "output_type": "stream",
          "name": "stdout",
          "text": [
            "Apstrādes laiks 30: Normāls\n",
            "Apstrādes laiks 28: Normāls\n",
            "Apstrādes laiks 32: Normāls\n",
            "Apstrādes laiks 45: Normāls\n",
            "Apstrādes laiks 29: Normāls\n",
            "Apstrādes laiks 500: Anomālija\n",
            "Apstrādes laiks 31: Normāls\n",
            "Apstrādes laiks 27: Normāls\n",
            "Apstrādes laiks 28: Normāls\n",
            "Apstrādes laiks 400: Anomālija\n"
          ]
        }
      ]
    },
    {
      "cell_type": "markdown",
      "source": [
        "# Dokumenta apstiprināšanas iespējamības prognozēšana"
      ],
      "metadata": {
        "id": "-DG8lnCrauTY"
      }
    },
    {
      "cell_type": "code",
      "source": [
        "from sklearn.tree import DecisionTreeClassifier\n",
        "\n",
        "# Datu kopas piemērs: īpašības (garums, veids) un apstiprināšanas statuss\n",
        "features = [\n",
        "    [100, 0],  # Īss rēķins\n",
        "    [200, 0],  # Garš rēķins\n",
        "    [50, 1],   # Īss līgums\n",
        "    [300, 1],  # Garš līgums\n",
        "    [150, 0],  # Vidēji garš rēķins\n",
        "]\n",
        "labels = [1, 0, 1, 0, 1]  # Apstiprināts (1) vai neapstiprināts (0)\n",
        "\n",
        "# Modeļa apmācība\n",
        "model = DecisionTreeClassifier()\n",
        "model.fit(features, labels)\n",
        "\n",
        "# Prognozes jauniem dokumentiem\n",
        "new_docs = [[120, 0], [400, 1]]  # Vidēji garš rēķins, garš līgums\n",
        "predictions = model.predict(new_docs)\n",
        "print(\"Prognozes (Apstiprināšana):\", predictions)"
      ],
      "metadata": {
        "colab": {
          "base_uri": "https://localhost:8080/"
        },
        "id": "roMMwvmQa0QZ",
        "outputId": "01fcfda5-dbf6-4a32-8d27-9e43af4b17d9"
      },
      "execution_count": 14,
      "outputs": [
        {
          "output_type": "stream",
          "name": "stdout",
          "text": [
            "Prognozes (Apstiprināšana): [1 0]\n"
          ]
        }
      ]
    },
    {
      "cell_type": "markdown",
      "source": [
        "# Automatizēta atslēgvārdu ieguve"
      ],
      "metadata": {
        "id": "_6SBwdySbDGp"
      }
    },
    {
      "cell_type": "code",
      "source": [
        "from sklearn.feature_extraction.text import TfidfVectorizer\n",
        "from sklearn.decomposition import TruncatedSVD\n",
        "\n",
        "# Dokumentu piemēri\n",
        "documents = [\n",
        "    \"Rēķins par projektu X un uzdevumu A\",\n",
        "    \"Līgums par projektu Y un uzdevumu B\",\n",
        "    \"Sanāksmes piezīmes par komandu A un projektu X\",\n",
        "    \"Rēķins par projektu Z un uzdevumu C\",\n",
        "    \"Līgums par komandu B un projektu Z\"\n",
        "]\n",
        "\n",
        "# Teksta konvertēšana skaitliskās iezīmēs\n",
        "vectorizer = TfidfVectorizer()\n",
        "X = vectorizer.fit_transform(documents)\n",
        "\n",
        "# TruncatedSVD samazina dimensijas līdz 2 komponentēm,\n",
        "# kas atspoguļo svarīgākos modeļus datos\n",
        "\n",
        "svd = TruncatedSVD(n_components=2, random_state=42)\n",
        "X_reduced = svd.fit_transform(X)\n",
        "\n",
        "# Atslēgvārdu noteikšana\n",
        "terms = vectorizer.get_feature_names_out()\n",
        "for i, component in enumerate(svd.components_):\n",
        "    terms_idx = component.argsort()[-5:]\n",
        "    print(f\"Tēma {i}: {', '.join(terms[j] for j in terms_idx)}\")"
      ],
      "metadata": {
        "colab": {
          "base_uri": "https://localhost:8080/"
        },
        "id": "DwOmnagubHUR",
        "outputId": "cc816c90-8714-4cf8-b258-acec3d1bc218"
      },
      "execution_count": 16,
      "outputs": [
        {
          "output_type": "stream",
          "name": "stdout",
          "text": [
            "Tēma 0: rēķins, uzdevumu, par, projektu, un\n",
            "Tēma 1: par, līgums, sanāksmes, piezīmes, komandu\n"
          ]
        }
      ]
    },
    {
      "cell_type": "markdown",
      "source": [
        "# Automatizēta dokumentu salīdzināšana"
      ],
      "metadata": {
        "id": "pOSnag1BbrnK"
      }
    },
    {
      "cell_type": "code",
      "source": [
        "from sklearn.feature_extraction.text import TfidfVectorizer\n",
        "from sklearn.metrics.pairwise import cosine_similarity\n",
        "\n",
        "# Dokumentu un kategoriju piemēri\n",
        "documents = [\"Rēķins par projektu X\", \"Līgums par projektu Y\"]\n",
        "categories = [\"Rēķins\", \"Līgums\", \"Piezīmes\"]\n",
        "\n",
        "# Teksta konvertēšana skaitliskās iezīmēs\n",
        "vectorizer = TfidfVectorizer()\n",
        "X = vectorizer.fit_transform(documents + categories)\n",
        "\n",
        "# Līdzības aprēķināšana\n",
        "similarities = cosine_similarity(X[:len(documents)], X[len(documents):])\n",
        "\n",
        "# Dokumentu un kategoriju atbilstība\n",
        "for i, doc_sim in enumerate(similarities):\n",
        "    best_match = categories[doc_sim.argmax()]\n",
        "    print(f\"Dokuments '{documents[i]}' atbilst kategorijai: {best_match}\")"
      ],
      "metadata": {
        "colab": {
          "base_uri": "https://localhost:8080/"
        },
        "id": "noUySKXhbvlz",
        "outputId": "88a799ab-e5ce-4485-a5bb-fb4c0402c60f"
      },
      "execution_count": 17,
      "outputs": [
        {
          "output_type": "stream",
          "name": "stdout",
          "text": [
            "Dokuments 'Rēķins par projektu X' atbilst kategorijai: Rēķins\n",
            "Dokuments 'Līgums par projektu Y' atbilst kategorijai: Līgums\n"
          ]
        }
      ]
    },
    {
      "cell_type": "markdown",
      "source": [
        "# Darbinieku veiktspējas prognozēšana"
      ],
      "metadata": {
        "id": "pqcztDWrcA3K"
      }
    },
    {
      "cell_type": "code",
      "source": [
        "from sklearn.ensemble import RandomForestRegressor\n",
        "from sklearn.model_selection import train_test_split\n",
        "from sklearn.metrics import mean_squared_error\n",
        "\n",
        "# Dati: darba radītāji (stundas, uzdevumu skaits) un veiktspēja\n",
        "features = [\n",
        "    [40, 5],  # 40 stundas, 5 uzdevumi\n",
        "    [50, 6],  # 50 stundas, 6 uzdevumi\n",
        "    [30, 4],  # 30 stundas, 4 uzdevumi\n",
        "    [60, 8],  # 60 stundas, 8 uzdevumi\n",
        "    [35, 5],  # 35 stundas, 5 uzdevumi\n",
        "]\n",
        "performance = [85, 90, 78, 95, 80]  # Veiktspēja (punkti)\n",
        "\n",
        "# Datu sadalīšana treniņā un testā\n",
        "X_train, X_test, y_train, y_test = train_test_split(features, performance, test_size=0.2, random_state=42)\n",
        "\n",
        "# Modeļa apmācība\n",
        "model = RandomForestRegressor(n_estimators=100, random_state=42)\n",
        "model.fit(X_train, y_train)\n",
        "\n",
        "# Prognozēšana un novērtēšana\n",
        "y_pred = model.predict(X_test)\n",
        "print(\"veiktspējas rādītās: \", y_pred, \" Darba stundas: \", X_test[0][0],\n",
        "      \" Darba uzdevumi: \", X_test[0][1])\n",
        "mse = mean_squared_error(y_test, y_pred)\n",
        "# mean_squared_error aprēķina vidējo kvadrātiskās kļūdas rādītāju,\n",
        "# kas parāda prognožu precizitāti\n",
        "print(f\"Izpratnes kļūda (MSE): {mse}\")"
      ],
      "metadata": {
        "colab": {
          "base_uri": "https://localhost:8080/"
        },
        "id": "ZNkkHYAtcFnr",
        "outputId": "69b5ebec-75c5-4a6c-aeae-d5b60596c986"
      },
      "execution_count": 27,
      "outputs": [
        {
          "output_type": "stream",
          "name": "stdout",
          "text": [
            "veiktspējas rādītās:  [85.44]  Darba stundas:  50  Darba uzdevumi:  6\n",
            "Izpratnes kļūda (MSE): 20.79360000000002\n"
          ]
        }
      ]
    }
  ]
}